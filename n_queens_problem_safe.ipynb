{
 "cells": [
  {
   "cell_type": "markdown",
   "id": "completed-panic",
   "metadata": {},
   "source": [
    "![UiO Logo](https://www.uio.no/om/designmanual/images/1-2-3-logo-universitetet-i-oslo.jpg \"UiO Logo\")\n",
    "\n",
    "# The N-Queens Puzzle\n",
    "by Marius Aasan (mariuaas$(\\alpha)$math$\\cdot$uio$\\cdot$no) - IN3050/4050 Group 3 - 08.02.2021 1015-1200\n",
    "\n",
    "The [8-queens puzzle](https://en.wikipedia.org/wiki/Eight_queens_puzzle) is a combinatorial optimization problem where one tries to place 8 queens on a chessboard without any of the queens being in a position to capture one another. In principle, a candidate solution can be obtained by placing the queens randomly over the board. However, this would create a very large solution space. Instead, we represent the genotypes as permutations, such that each queen can occupy a single rank and file. This leaves only the diagonals to be checked. Let us solve this problem with a genetic algorithm and generalize to an $N \\times N$ grid.\n",
    "\n",
    "#### Note:\n",
    "Some of the code in this notebook as to not crash with the mandatory assignment, but can be filled out as an exercise.\n",
    "\n",
    "Firstly we define the 'magic' function to plot directly in the Notebook."
   ]
  },
  {
   "cell_type": "code",
   "execution_count": 1,
   "id": "finnish-verification",
   "metadata": {},
   "outputs": [],
   "source": [
    "%matplotlib inline"
   ]
  },
  {
   "cell_type": "markdown",
   "id": "monthly-toddler",
   "metadata": {},
   "source": [
    "Now we import our libraries. We use our the workhorses [numpy](https://numpy.org/) and [matplotlib](https://matplotlib.org/)."
   ]
  },
  {
   "cell_type": "code",
   "execution_count": 2,
   "id": "approved-extra",
   "metadata": {},
   "outputs": [],
   "source": [
    "import numpy as np\n",
    "import matplotlib.pyplot as plt"
   ]
  },
  {
   "cell_type": "markdown",
   "id": "intended-miami",
   "metadata": {},
   "source": [
    "First, let's define a function to generate random permutations. We specify the `length=8` so we can later generalize the problem to higher dimensionality."
   ]
  },
  {
   "cell_type": "code",
   "execution_count": 3,
   "id": "terminal-spread",
   "metadata": {},
   "outputs": [],
   "source": [
    "def random_genotype(length=8):\n",
    "    return np.random.choice(np.arange(length), size=length, replace=False)"
   ]
  },
  {
   "cell_type": "markdown",
   "id": "precise-wound",
   "metadata": {},
   "source": [
    "Using this function, we can define a function to generate a full population of size $n$."
   ]
  },
  {
   "cell_type": "code",
   "execution_count": 4,
   "id": "wicked-roads",
   "metadata": {},
   "outputs": [],
   "source": [
    "def generate_population(n, length=8):\n",
    "    population = np.zeros((n, length), dtype=int)\n",
    "    for i in range(n):\n",
    "        population[i] = random_genotype(length=length)\n",
    "    return population"
   ]
  },
  {
   "cell_type": "markdown",
   "id": "external-atlas",
   "metadata": {},
   "source": [
    "### Drawing a board\n",
    "\n",
    "Now let us define a function to draw a board. We use a small trick with `np.indices` with the modulo operator to generate the board. We then select some appropriate [color map](https://matplotlib.org/3.1.0/tutorials/colors/colormaps.html) to draw the generated matrix as a checkerboard, and draw pieces with the `plt.text` function on our board. The unicode string for a queen piece is `u\"\\u265B\"`."
   ]
  },
  {
   "cell_type": "code",
   "execution_count": 5,
   "id": "severe-favorite",
   "metadata": {},
   "outputs": [],
   "source": [
    "def draw_board(board, length=8, fontsize=42):\n",
    "    # Create board matrix of 0s and 1s\n",
    "    board_img = np.indices((length,length)).sum(axis=0) % 2\n",
    "\n",
    "    # Create a figure and draw our matrix\n",
    "    fig, ax = plt.subplots(figsize=(7,7))\n",
    "    ax.matshow(board_img, cmap=\"tab20c\")\n",
    "    \n",
    "    # Draw the pieces\n",
    "    for i in range(length):\n",
    "        ax.text(i, board[i], u\"\\u265B\", fontsize=fontsize, ha=\"center\", va=\"center\")\n",
    "    \n",
    "    # Turn off axes and ticks\n",
    "    plt.axis(\"off\")\n",
    "    \n",
    "    # Return ax to possibly draw additional lines or points on our figure\n",
    "    return ax"
   ]
  },
  {
   "cell_type": "markdown",
   "id": "southern-savannah",
   "metadata": {},
   "source": [
    "Okay, so now let's test our visualization on a random genotype."
   ]
  },
  {
   "cell_type": "code",
   "execution_count": 6,
   "id": "surprised-danger",
   "metadata": {},
   "outputs": [
    {
     "name": "stdout",
     "output_type": "stream",
     "text": [
      "[6 3 2 5 1 4 0 7]\n"
     ]
    },
    {
     "data": {
      "image/png": "[encoded data removed]",
      "text/plain": [
       "<Figure size 504x504 with 1 Axes>"
      ]
     },
     "metadata": {
      "needs_background": "light"
     },
     "output_type": "display_data"
    }
   ],
   "source": [
    "board = random_genotype()\n",
    "print(board)\n",
    "draw_board(board);"
   ]
  },
  {
   "cell_type": "markdown",
   "id": "turkish-cleaner",
   "metadata": {},
   "source": [
    "Notice that the genotype encodes the file of a queen on a particular rank (column)."
   ]
  },
  {
   "cell_type": "markdown",
   "id": "beginning-lover",
   "metadata": {},
   "source": [
    "### Defining Fitness\n",
    "\n",
    "The fitness of the board should represent how good a particular solution really is to being optimal, i.e. having zero capture possibilities along the diagonals. Thus, we want to find a good way to check the diagonals to score our solutions with a fitness function. Notice that each diagonal can be encoded by a increasing sequence of integers for the negative diagonals, and an increasing sequence for the positive diagonals."
   ]
  },
  {
   "cell_type": "code",
   "execution_count": 7,
   "id": "equal-twelve",
   "metadata": {},
   "outputs": [
    {
     "name": "stdout",
     "output_type": "stream",
     "text": [
      "Board:     [6 3 2 5 1 4 0 7]\n",
      "Diagonal:  [0 1 2 3 4 5 6 7]\n",
      "Matches:   [0 0 1 0 0 0 0 1]\n"
     ]
    }
   ],
   "source": [
    "length = 8\n",
    "diag = np.arange(0, 2*length)\n",
    "diag[length:] = -1\n",
    "print(\"Board:    \", board)\n",
    "print(\"Diagonal: \", diag[:8])\n",
    "print(\"Matches:  \", (board == diag[:8]).astype(int))"
   ]
  },
  {
   "cell_type": "markdown",
   "id": "ignored-excellence",
   "metadata": {},
   "source": [
    "We will leverage this and generate a matrix of diagonals we can use to compare with a genotype to check if any diagonals have two or more pieces on it."
   ]
  },
  {
   "cell_type": "code",
   "execution_count": 8,
   "id": "nasty-balloon",
   "metadata": {},
   "outputs": [
    {
     "data": {
      "text/plain": [
       "array([[ 0.,  1.,  2.,  3.,  4.,  5.,  6.,  7.],\n",
       "       [-1.,  0.,  1.,  2.,  3.,  4.,  5.,  6.],\n",
       "       [-1., -1.,  0.,  1.,  2.,  3.,  4.,  5.],\n",
       "       [-1., -1., -1.,  0.,  1.,  2.,  3.,  4.],\n",
       "       [-1., -1., -1., -1.,  0.,  1.,  2.,  3.],\n",
       "       [-1., -1., -1., -1., -1.,  0.,  1.,  2.],\n",
       "       [-1., -1., -1., -1., -1., -1.,  0.,  1.],\n",
       "       [-1., -1., -1., -1., -1., -1., -1.,  0.],\n",
       "       [-1., -1., -1., -1., -1., -1., -1., -1.],\n",
       "       [ 7., -1., -1., -1., -1., -1., -1., -1.],\n",
       "       [ 6.,  7., -1., -1., -1., -1., -1., -1.],\n",
       "       [ 5.,  6.,  7., -1., -1., -1., -1., -1.],\n",
       "       [ 4.,  5.,  6.,  7., -1., -1., -1., -1.],\n",
       "       [ 3.,  4.,  5.,  6.,  7., -1., -1., -1.],\n",
       "       [ 2.,  3.,  4.,  5.,  6.,  7., -1., -1.],\n",
       "       [ 1.,  2.,  3.,  4.,  5.,  6.,  7., -1.],\n",
       "       [-1., -1., -1., -1., -1., -1., -1.,  7.],\n",
       "       [-1., -1., -1., -1., -1., -1.,  7.,  6.],\n",
       "       [-1., -1., -1., -1., -1.,  7.,  6.,  5.],\n",
       "       [-1., -1., -1., -1.,  7.,  6.,  5.,  4.],\n",
       "       [-1., -1., -1.,  7.,  6.,  5.,  4.,  3.],\n",
       "       [-1., -1.,  7.,  6.,  5.,  4.,  3.,  2.],\n",
       "       [-1.,  7.,  6.,  5.,  4.,  3.,  2.,  1.],\n",
       "       [ 7.,  6.,  5.,  4.,  3.,  2.,  1.,  0.],\n",
       "       [ 6.,  5.,  4.,  3.,  2.,  1.,  0., -1.],\n",
       "       [ 5.,  4.,  3.,  2.,  1.,  0., -1., -1.],\n",
       "       [ 4.,  3.,  2.,  1.,  0., -1., -1., -1.],\n",
       "       [ 3.,  2.,  1.,  0., -1., -1., -1., -1.],\n",
       "       [ 2.,  1.,  0., -1., -1., -1., -1., -1.],\n",
       "       [ 1.,  0., -1., -1., -1., -1., -1., -1.],\n",
       "       [ 0., -1., -1., -1., -1., -1., -1., -1.],\n",
       "       [-1., -1., -1., -1., -1., -1., -1., -1.]])"
      ]
     },
     "execution_count": 8,
     "metadata": {},
     "output_type": "execute_result"
    }
   ],
   "source": [
    "def make_diags(length=8):\n",
    "    # Make the main diagonal\n",
    "    diag = np.arange(0, 2*length)\n",
    "    diag[length:] = -1\n",
    "\n",
    "    # Create matrix of diagonals\n",
    "    diags = np.zeros((4*length, length))\n",
    "    for i in range(2*length):\n",
    "        # Roll over elements in diag to generate each diagonal\n",
    "        diags[i] = np.roll(diag, i)[:length]          # Negative\n",
    "        diags[-i-1] = np.roll(diag[::-1], i)[:length] # Positive\n",
    "    return diags\n",
    "        \n",
    "diags = make_diags()\n",
    "diags"
   ]
  },
  {
   "cell_type": "markdown",
   "id": "taken-confusion",
   "metadata": {},
   "source": [
    "Now we have a 2D array of diagonals which we can loop over to check each diagonal. Note however that this is not optimal. We have certain diagonals which are filled with only negative values, acting as placeholders. These will never match with any values. Additionally we have 4 diagonals with only a single non-negative value. These represent the corners of the board, and 4 of these are superflous.\n",
    "\n",
    "However, this performance hit is minor, so we will ignore this for the purposes of this example. Feel free to correct this if you want! :)\n",
    "\n",
    "We move on to explicitly define our fitness function. Additionally we would like to visualize how good a solution is, by drawing lines through the pieces that are in a capturable state. We do this by adding a `debug` flag to our fitness function, which we use to print out the capturable diagonals and adding lines to a visualized board."
   ]
  },
  {
   "cell_type": "code",
   "execution_count": 9,
   "id": "dirty-butler",
   "metadata": {},
   "outputs": [],
   "source": [
    "def fitness(board, length=8, fontsize=40, debug=False):\n",
    "    # Create a counter of captures and list of capture locations\n",
    "    captures = 0\n",
    "    locs = []\n",
    "\n",
    "    # Loop through diagonals\n",
    "    for i in range(2*length):\n",
    "        # Define boolean array of negative and positive diagonals\n",
    "        nd = board == diags[i]\n",
    "        pd = board == diags[-i-1]\n",
    "        \n",
    "        # Count the number of pieces on a diagonal\n",
    "        sum_nd, sum_pd = sum(nd), sum(pd)\n",
    "        \n",
    "        # Check if negative diagonal has more than two queens\n",
    "        if sum_nd > 1:\n",
    "            captures += sum_nd\n",
    "            if debug:\n",
    "                # Find squares, add min and max square along diagonal and print\n",
    "                squares = np.where(nd)[0]\n",
    "                locs += [(min(squares), max(squares))]\n",
    "                print(\"neg: \", squares)\n",
    "        \n",
    "        # Check if positive diagonal has more than two queens\n",
    "        if sum_pd > 1:\n",
    "            captures += sum_pd\n",
    "            if debug:\n",
    "                # Find squares, add min and max square along diagonal and print\n",
    "                squares = np.where(pd)[0]\n",
    "                locs += [(min(squares), max(squares))]\n",
    "                print(\"pos: \", squares)\n",
    "    \n",
    "    # If debug flag, we want to visualize the board\n",
    "    if debug:\n",
    "        \n",
    "        # Get visualization\n",
    "        ax = draw_board(board, length=length, fontsize=fontsize)\n",
    "\n",
    "        # For each diagonal draw a line between the pieces\n",
    "        for a,b in locs:\n",
    "            x1, y1 = a, board[a]\n",
    "            x2, y2 = b, board[b]\n",
    "            ax.plot((x1,x2),(y1,y2), color=\"red\")\n",
    "    \n",
    "    return captures  \n"
   ]
  },
  {
   "cell_type": "markdown",
   "id": "tropical-beaver",
   "metadata": {},
   "source": [
    "Let us test our function to see if it works as intended."
   ]
  },
  {
   "cell_type": "code",
   "execution_count": 10,
   "id": "boxed-translation",
   "metadata": {},
   "outputs": [
    {
     "name": "stdout",
     "output_type": "stream",
     "text": [
      "neg:  [2 7]\n",
      "pos:  [1 2]\n",
      "pos:  [0 6]\n",
      "neg:  [1 3]\n"
     ]
    },
    {
     "data": {
      "text/plain": [
       "8"
      ]
     },
     "execution_count": 10,
     "metadata": {},
     "output_type": "execute_result"
    },
    {
     "data": {
      "image/png": "[encoded data removed]",
      "text/plain": [
       "<Figure size 504x504 with 1 Axes>"
      ]
     },
     "metadata": {
      "needs_background": "light"
     },
     "output_type": "display_data"
    }
   ],
   "source": [
    "fitness(board, debug=True)"
   ]
  },
  {
   "cell_type": "markdown",
   "id": "colonial-humanity",
   "metadata": {},
   "source": [
    "Very nice. We now have a way of visualizing our solution. Lastly, we want to time our fitness function without the debug flag."
   ]
  },
  {
   "cell_type": "code",
   "execution_count": 11,
   "id": "helpful-france",
   "metadata": {},
   "outputs": [
    {
     "name": "stdout",
     "output_type": "stream",
     "text": [
      "1000 loops, best of 5: 547 µs per loop\n"
     ]
    }
   ],
   "source": [
    "%%timeit\n",
    "fitness(board)"
   ]
  },
  {
   "cell_type": "markdown",
   "id": "beautiful-casting",
   "metadata": {},
   "source": [
    "### Defining GA Operators\n",
    "\n",
    "Next, we need to define our GA operators. For the purposes of this example, we will omit the code as it is important that you do this yourself for the mandatory assignment."
   ]
  },
  {
   "cell_type": "code",
   "execution_count": 12,
   "id": "concrete-policy",
   "metadata": {},
   "outputs": [],
   "source": [
    "def PMX(parent1, parent2, length=8):\n",
    "    # Partially mapped crossover. Insert your own code here.\n",
    "    # ...\n",
    "    return child\n",
    "\n",
    "def SWM(child, p=0.5):\n",
    "    # Swap mutation. Insert your own code here.\n",
    "    # NOTE: This is an inplace operation which modifies the input directly.\n",
    "    # ...\n"
   ]
  },
  {
   "cell_type": "markdown",
   "id": "smart-surgeon",
   "metadata": {},
   "source": [
    "Once these are defined, we want to check that they work correctly."
   ]
  },
  {
   "cell_type": "code",
   "execution_count": 14,
   "id": "noticed-bachelor",
   "metadata": {},
   "outputs": [
    {
     "name": "stdout",
     "output_type": "stream",
     "text": [
      "[0 3 5 4 6 2 7 1]\n",
      "[6 7 4 1 3 0 5 2]\n",
      "[6 7 4 1 3 2 0 5]\n"
     ]
    }
   ],
   "source": [
    "parent1 = random_genotype()\n",
    "parent2 = random_genotype()\n",
    "print(parent1)\n",
    "print(parent2)\n",
    "child = PMX(parent1, parent2)\n",
    "print(child)"
   ]
  },
  {
   "cell_type": "markdown",
   "id": "conditional-patient",
   "metadata": {},
   "source": [
    "The PMX operator seems to work as expected. Let's check the mutation operator."
   ]
  },
  {
   "cell_type": "code",
   "execution_count": 15,
   "id": "miniature-opening",
   "metadata": {},
   "outputs": [
    {
     "name": "stdout",
     "output_type": "stream",
     "text": [
      "[6 7 4 1 3 2 0 5]\n",
      "[6 7 4 1 3 0 2 5]\n"
     ]
    }
   ],
   "source": [
    "print(child)\n",
    "SWM(child, p=1)\n",
    "print(child)"
   ]
  },
  {
   "cell_type": "markdown",
   "id": "bacterial-blond",
   "metadata": {},
   "source": [
    "Nice! This seems to work as intended."
   ]
  },
  {
   "cell_type": "markdown",
   "id": "sitting-quest",
   "metadata": {},
   "source": [
    "### Utility Functions\n",
    "\n",
    "Next, we want to add some functions to score our population and retrieve a list of indices sorted by score. "
   ]
  },
  {
   "cell_type": "code",
   "execution_count": 16,
   "id": "lonely-trick",
   "metadata": {},
   "outputs": [],
   "source": [
    "def score_population(population, length=8):\n",
    "    # Score population\n",
    "    scores = np.array(list(map(lambda x: fitness(x, length=length), population)))\n",
    "    \n",
    "    # Create sorted indices\n",
    "    indices = np.argsort(scores)\n",
    "    \n",
    "    return scores, indices \n",
    "    "
   ]
  },
  {
   "cell_type": "markdown",
   "id": "laughing-drive",
   "metadata": {},
   "source": [
    "Now we create a function to create a new generation. This means implementing the selection process.\n",
    "\n",
    "For our purposes, we make a simple selection process:\n",
    "* We set a ratio (`top_ratio`) of the highest fitness individuals, and select a subset of these for procreation (`fertility_rate`).\n",
    "* This selects a number of high fitness candidates which are selected for procreation. We select an additional group at random from the rest of the population as additional parents.\n",
    "* All the subsequent offspring are then added to a list, called `children`.\n",
    "* We set a mutation chance (`mutation_chance`) and apply a swap mutation to all the generated offspring with a set probability.\n",
    "* We then replace a set of the less fit population with the newly formed offspring.\n",
    "\n",
    "The code is omitted for the same reasons mentioned above, but feel free to implement this as an exercise! This is useful for the mandatory assignment."
   ]
  },
  {
   "cell_type": "code",
   "execution_count": 20,
   "id": "occupational-alexander",
   "metadata": {},
   "outputs": [],
   "source": [
    "def new_generation(population, top_ratio=0.15, fertility_rate=0.8, length=8, mutation_chance=0.5):\n",
    "    # Perform parent selection, apply PMX and SWM to produce offspring, and apply survival selection.\n",
    "    # ...\n",
    "    scores, indices = score_population(population, length=length)\n",
    "    return np.mean(scores), np.std(scores), np.min(scores), np.max(scores)"
   ]
  },
  {
   "cell_type": "markdown",
   "id": "modular-moral",
   "metadata": {},
   "source": [
    "### Plotting the Process\n",
    "\n",
    "To check if the 'training' process is proceeding as intended, we want to plot some key statistics from our population. The `new_generation` function returns the mean, standard deviation, as well as the minimum and maximum scores. We define a function that can take a list of these and plot the results."
   ]
  },
  {
   "cell_type": "code",
   "execution_count": 21,
   "id": "intimate-detective",
   "metadata": {},
   "outputs": [],
   "source": [
    "def plot_results(trace):\n",
    "    \n",
    "    # Create the plots\n",
    "    plt.plot(trace[:,0], label=\"$\\mu$\")\n",
    "    plt.plot(trace[:,1], label=\"$\\sigma$\")\n",
    "    plt.plot(trace[:,2], label=\"$min$\")\n",
    "    plt.plot(trace[:,3], label=\"$max$\")\n",
    "    \n",
    "    # Set a log-scale to the y-axis\n",
    "    plt.yscale(\"symlog\")\n",
    "    \n",
    "    # Remember to label the axes!\n",
    "    plt.xlabel(\"Generations\")\n",
    "    plt.ylabel(\"Fitness\")\n",
    "    \n",
    "    # Set a maximum and minimum for the y values in the plot\n",
    "    plt.ylim(0,np.max(trace) + 5)\n",
    "    \n",
    "    # Add a legend\n",
    "    plt.legend()"
   ]
  },
  {
   "cell_type": "markdown",
   "id": "demanding-taxation",
   "metadata": {},
   "source": [
    "### Running our Algorithm\n",
    "\n",
    "We now have all the components necessary to run our algorithm. "
   ]
  },
  {
   "cell_type": "code",
   "execution_count": 22,
   "id": "addressed-gravity",
   "metadata": {},
   "outputs": [
    {
     "name": "stdout",
     "output_type": "stream",
     "text": [
      "gen: 0 - mean:  7.60 - std:  2.15 - min: 2, max: 12\n",
      "gen: 5 - mean:  7.44 - std:  2.14 - min: 2, max: 11\n",
      "gen: 10 - mean:  6.88 - std:  2.18 - min: 2, max: 11\n",
      "gen: 15 - mean:  6.56 - std:  2.08 - min: 2, max: 11\n",
      "gen: 20 - mean:  6.64 - std:  2.38 - min: 2, max: 11\n",
      "gen: 25 - mean:  6.44 - std:  2.47 - min: 2, max: 11\n",
      "gen: 30 - mean:  5.96 - std:  2.47 - min: 2, max: 11\n",
      "gen: 35 - mean:  5.20 - std:  2.24 - min: 2, max: 9\n",
      "gen: 37 - mean:  4.96 - std:  2.54 - min: 0, max: 9\n"
     ]
    }
   ],
   "source": [
    "# Set number of generations\n",
    "generations = 100\n",
    "\n",
    "# Set the board size\n",
    "length = 8\n",
    "\n",
    "# Define the diagonals\n",
    "diags = make_diags(length=length)\n",
    "\n",
    "# Initialize the population\n",
    "population = generate_population(25, length=length)\n",
    "\n",
    "# Create a trace of all relevant population statistics\n",
    "trace = []\n",
    "\n",
    "# Run the algorithm\n",
    "for gen in range(generations):\n",
    "\n",
    "    # Create generations\n",
    "    mean, std, mins, maxs = new_generation(population, length=length)\n",
    "    trace.append([mean, std, mins, maxs])\n",
    "    \n",
    "    # Create a string containing useful statistics\n",
    "    result = f\"gen: {gen} - mean: {mean:5.2f} - std: {std:5.2f} - min: {mins}, max: {maxs}\"\n",
    "\n",
    "    # Print stats for every 5th iteration\n",
    "    if gen % 5 == 0:\n",
    "        print(result)\n",
    "\n",
    "    # If the minimum solution is zero, print and stop.\n",
    "    if mins == 0:\n",
    "        print(result)\n",
    "        break\n",
    "\n",
    "# Convert list to array\n",
    "trace = np.array(trace)"
   ]
  },
  {
   "cell_type": "markdown",
   "id": "described-collection",
   "metadata": {},
   "source": [
    "### Results\n",
    "\n",
    "We seem to have found a solution! We plot the statistics and visualize the board."
   ]
  },
  {
   "cell_type": "code",
   "execution_count": 23,
   "id": "romantic-paraguay",
   "metadata": {},
   "outputs": [
    {
     "data": {
      "image/png": "[encoded data removed]",
      "text/plain": [
       "<Figure size 432x288 with 1 Axes>"
      ]
     },
     "metadata": {
      "needs_background": "light"
     },
     "output_type": "display_data"
    }
   ],
   "source": [
    "plot_results(trace)"
   ]
  },
  {
   "cell_type": "code",
   "execution_count": 24,
   "id": "arabic-chassis",
   "metadata": {},
   "outputs": [
    {
     "data": {
      "text/plain": [
       "0"
      ]
     },
     "execution_count": 24,
     "metadata": {},
     "output_type": "execute_result"
    },
    {
     "data": {
      "image/png": "[encoded data removed]",
      "text/plain": [
       "<Figure size 504x504 with 1 Axes>"
      ]
     },
     "metadata": {
      "needs_background": "light"
     },
     "output_type": "display_data"
    }
   ],
   "source": [
    "scores, indices = score_population(population)\n",
    "fitness(population[indices[0]], length=8, debug=True)"
   ]
  },
  {
   "cell_type": "markdown",
   "id": "sized-practice",
   "metadata": {},
   "source": [
    "This looks pretty good! However, this problem seems rather simple. If we initialize with a high enough population, the problem can be solved almost straight away, sometimes with 0 generations. If we however increase our dimensionality, the problem gets more difficult."
   ]
  },
  {
   "cell_type": "code",
   "execution_count": 31,
   "id": "elegant-bandwidth",
   "metadata": {},
   "outputs": [
    {
     "name": "stdout",
     "output_type": "stream",
     "text": [
      "gen: 0 - mean: 10.80 - std:  2.51 - min: 3, max: 18\n",
      "gen: 10 - mean:  9.91 - std:  2.57 - min: 3, max: 16\n",
      "gen: 20 - mean:  9.66 - std:  3.07 - min: 3, max: 18\n",
      "gen: 30 - mean:  9.50 - std:  3.21 - min: 3, max: 17\n",
      "gen: 40 - mean:  9.20 - std:  3.31 - min: 3, max: 17\n",
      "gen: 50 - mean:  8.89 - std:  3.23 - min: 3, max: 17\n",
      "gen: 60 - mean:  8.61 - std:  3.34 - min: 2, max: 18\n",
      "gen: 70 - mean:  8.84 - std:  3.67 - min: 2, max: 20\n",
      "gen: 80 - mean:  8.59 - std:  3.45 - min: 2, max: 16\n",
      "gen: 90 - mean:  8.80 - std:  3.40 - min: 2, max: 18\n",
      "gen: 100 - mean:  8.89 - std:  3.50 - min: 2, max: 18\n",
      "gen: 110 - mean:  8.89 - std:  3.59 - min: 2, max: 16\n",
      "gen: 120 - mean:  8.48 - std:  3.66 - min: 2, max: 18\n",
      "gen: 130 - mean:  8.30 - std:  3.63 - min: 2, max: 16\n",
      "gen: 140 - mean:  8.33 - std:  3.85 - min: 2, max: 16\n",
      "gen: 150 - mean:  8.38 - std:  3.84 - min: 2, max: 18\n",
      "gen: 160 - mean:  8.59 - std:  4.09 - min: 2, max: 18\n",
      "gen: 170 - mean:  8.66 - std:  4.16 - min: 2, max: 19\n",
      "gen: 172 - mean:  8.40 - std:  4.01 - min: 0, max: 19\n"
     ]
    }
   ],
   "source": [
    "# Set the generations, board size, diagonals, initilaize pop, and trace\n",
    "generations = 200\n",
    "length = 12\n",
    "diags = make_diags(length=length)\n",
    "population = generate_population(200, length=length)\n",
    "trace = []\n",
    "\n",
    "# Run the algorithm\n",
    "for gen in range(generations):\n",
    "\n",
    "    mean, std, mins, maxs = new_generation(population, length=length)\n",
    "    trace.append([mean, std, mins, maxs])\n",
    "    result = f\"gen: {gen} - mean: {mean:5.2f} - std: {std:5.2f} - min: {mins}, max: {maxs}\"\n",
    "\n",
    "    # Print stats for every 10th iteration this time\n",
    "    if gen % 10 == 0:\n",
    "        print(result)\n",
    "    \n",
    "    if mins == 0:\n",
    "        print(result)\n",
    "        break\n",
    "\n",
    "# Convert list to array\n",
    "trace = np.array(trace)"
   ]
  },
  {
   "cell_type": "code",
   "execution_count": 32,
   "id": "academic-springer",
   "metadata": {},
   "outputs": [
    {
     "data": {
      "image/png": "[encoded data removed]",
      "text/plain": [
       "<Figure size 432x288 with 1 Axes>"
      ]
     },
     "metadata": {
      "needs_background": "light"
     },
     "output_type": "display_data"
    }
   ],
   "source": [
    "plot_results(trace)"
   ]
  },
  {
   "cell_type": "code",
   "execution_count": 34,
   "id": "dominican-wedding",
   "metadata": {},
   "outputs": [
    {
     "data": {
      "text/plain": [
       "0"
      ]
     },
     "execution_count": 34,
     "metadata": {},
     "output_type": "execute_result"
    },
    {
     "data": {
      "image/png": "[encoded data removed]",
      "text/plain": [
       "<Figure size 504x504 with 1 Axes>"
      ]
     },
     "metadata": {
      "needs_background": "light"
     },
     "output_type": "display_data"
    }
   ],
   "source": [
    "scores, indices = score_population(population, length=length)\n",
    "fitness(population[indices[0]], length=length, fontsize=34, debug=True)"
   ]
  },
  {
   "cell_type": "markdown",
   "id": "weird-concrete",
   "metadata": {},
   "source": [
    "### Conclusion\n",
    "\n",
    "It seems like our simple example works rather well. Hopefully you found this example useful. Many of the ideas here can be applied to the mandatory assignment so this is a good exercise with a smaller scale problem."
   ]
  }
 ],
 "metadata": {
  "kernelspec": {
   "display_name": "Python 3",
   "language": "python",
   "name": "python3"
  },
  "language_info": {
   "codemirror_mode": {
    "name": "ipython",
    "version": 3
   },
   "file_extension": ".py",
   "mimetype": "text/x-python",
   "name": "python",
   "nbconvert_exporter": "python",
   "pygments_lexer": "ipython3",
   "version": "3.7.9"
  }
 },
 "nbformat": 4,
 "nbformat_minor": 5
}
